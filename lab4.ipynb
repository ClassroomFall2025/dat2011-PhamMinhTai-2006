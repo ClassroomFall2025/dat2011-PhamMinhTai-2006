{
 "cells": [
  {
   "cell_type": "markdown",
   "id": "fdeff819",
   "metadata": {},
   "source": [
    "# Sinh Viên thực hiện Lab 4 ở Đây"
   ]
  },
  {
   "cell_type": "markdown",
   "id": "acc5d7dc",
   "metadata": {},
   "source": [
    "## Lab 1 - Bài 1"
   ]
  },
  {
   "cell_type": "code",
   "execution_count": 1,
   "id": "001e0507",
   "metadata": {},
   "outputs": [
    {
     "name": "stdout",
     "output_type": "stream",
     "text": [
      "Chương trình tính tiền nước sinh hoạt\n",
      "Tiền nước bạn cần phải trả là 163,000 đồng\n"
     ]
    }
   ],
   "source": [
    "from lab4 import tinh_tien_nuoc\n",
    "print('Chương trình tính tiền nước sinh hoạt')\n",
    "so_nuoc=float(input('Nhập số nước tiêu thụ (m3): '))\n",
    "tien_nuoc=tinh_tien_nuoc(so_nuoc)  # Thêm dòng này để tính tiền nước\n",
    "print('Tiền nước bạn cần phải trả là {:,.0f} đồng'.format(tien_nuoc))\n"
   ]
  },
  {
   "cell_type": "markdown",
   "id": "c0835310",
   "metadata": {},
   "source": [
    "## Lab 4 - Bài 2"
   ]
  },
  {
   "cell_type": "code",
   "execution_count": 2,
   "id": "fa9cb39f",
   "metadata": {},
   "outputs": [
    {
     "name": "stdout",
     "output_type": "stream",
     "text": [
      " Tính nguyên liệu làm bánh \n",
      " Nguyên liệu cần chuẩn bị để làm 8 cái bánh \n",
      " Đường: 0.31000000000000005 kg\n",
      " Đậu: 0.13 kg\n"
     ]
    }
   ],
   "source": [
    "# Code lab 4  bài 2 ở đây\n",
    "from lab4 import tinh_nguyen_lieu\n",
    "print(\" Tính nguyên liệu làm bánh \")\n",
    "sl_bdx = int(input(\"Nhập số bánh đậu xanh: \"))\n",
    "sl_btc = int(input(\"Nhập số bánh thập cẩm: \"))\n",
    "sl_bd = int(input(\"Nhập số bánh dẻo: \"))\n",
    "nguyen_lieu = tinh_nguyen_lieu(sl_bdx, sl_btc, sl_bd)\n",
    "print(f\" Nguyên liệu cần chuẩn bị để làm {sl_bd + sl_btc + sl_bd} cái bánh \")\n",
    "print(f\" Đường: {nguyen_lieu['Đường']} kg\")\n",
    "print(f\" Đậu: {nguyen_lieu['Đậu']} kg\")"
   ]
  },
  {
   "cell_type": "markdown",
   "id": "0f2483fe",
   "metadata": {},
   "source": [
    "## Lab 4 - Bài 3"
   ]
  },
  {
   "cell_type": "code",
   "execution_count": 1,
   "id": "7034990b",
   "metadata": {},
   "outputs": [
    {
     "name": "stdout",
     "output_type": "stream",
     "text": [
      "Nhập dãy số nguyên (nhập 'x', 's' hoặc 'stop' để kết thúc):\n",
      "số bạn vừa nhập là: [12]\n",
      "Danh sách các số chia hết cho 2 là: [12]\n"
     ]
    }
   ],
   "source": [
    "# Code lab 4  bài 3 ở đây\n",
    "from lab4 import so_chia_het_cho_2\n",
    "\n",
    "ds_so = so_chia_het_cho_2()\n",
    "print(\"Danh sách các số chia hết cho 2 là:\", ds_so)"
   ]
  },
  {
   "cell_type": "markdown",
   "id": "d36ea3d3",
   "metadata": {},
   "source": [
    "## Lab 4 - Bài 4"
   ]
  },
  {
   "cell_type": "code",
   "execution_count": 2,
   "id": "4c707ec1",
   "metadata": {},
   "outputs": [
    {
     "name": "stdout",
     "output_type": "stream",
     "text": [
      "\n",
      "**************** MENU ****************\n",
      "1. Tính tiền nước sinh hoạt\n",
      "2. Tính nguyên liệu làm bánh\n",
      "0. Kết thúc\n"
     ]
    },
    {
     "name": "stdout",
     "output_type": "stream",
     "text": [
      "Tiền nước: 211,000 đồng\n",
      "\n",
      "**************** MENU ****************\n",
      "1. Tính tiền nước sinh hoạt\n",
      "2. Tính nguyên liệu làm bánh\n",
      "0. Kết thúc\n"
     ]
    },
    {
     "ename": "SystemExit",
     "evalue": "Tạm biệt!",
     "output_type": "error",
     "traceback": [
      "An exception has occurred, use %tb to see the full traceback.\n",
      "\u001b[31mSystemExit\u001b[39m\u001b[31m:\u001b[39m Tạm biệt!\n"
     ]
    },
    {
     "name": "stderr",
     "output_type": "stream",
     "text": [
      "d:\\DAT2011\\projects\\dat2011-PhamMinhTai-2006\\.venv\\Lib\\site-packages\\IPython\\core\\interactiveshell.py:3707: UserWarning: To exit: use 'exit', 'quit', or Ctrl-D.\n",
      "  warn(\"To exit: use 'exit', 'quit', or Ctrl-D.\", stacklevel=1)\n"
     ]
    }
   ],
   "source": [
    "# code lab 4 bài 4 ở đây\n",
    "# menu_lab4.py\n",
    "from lab4 import tinh_tien_nuoc, tinh_nguyen_lieu\n",
    "import sys\n",
    "\n",
    "def run_bai1():\n",
    "    so_nuoc = float(input(\"Nhập số nước tiêu thụ (m3): \"))\n",
    "    print(f\"Tiền nước: {tinh_tien_nuoc(so_nuoc):,.0f} đồng\")\n",
    "\n",
    "def run_bai2():\n",
    "    sl_bdx = int(input(\"Số bánh đậu xanh: \"))\n",
    "    sl_btc = int(input(\"Số bánh thập cẩm: \"))\n",
    "    sl_bd  = int(input(\"Số bánh dẻo: \"))\n",
    "    nl = tinh_nguyen_lieu(sl_bdx, sl_btc, sl_bd)\n",
    "    tong = sl_bdx + sl_btc + sl_bd\n",
    "    print(f\"\\nNguyên liệu cho {tong} cái bánh:\")\n",
    "    print(f\"- Đường: {nl['Đường']:.2f} kg\")\n",
    "    print(f\"- Đậu  : {nl['Đậu']:.2f} kg\")\n",
    "\n",
    "ACTIONS = {\n",
    "    \"1\": run_bai1,\n",
    "    \"2\": run_bai2,\n",
    "    \"0\": lambda: sys.exit(\"Tạm biệt!\")\n",
    "}\n",
    "\n",
    "if __name__ == \"__main__\":\n",
    "    while True:\n",
    "        print(\"\\n**************** MENU ****************\")\n",
    "        print(\"1. Tính tiền nước sinh hoạt\")\n",
    "        print(\"2. Tính nguyên liệu làm bánh\")\n",
    "        print(\"0. Kết thúc\")\n",
    "        chon = input(\"Chọn (0–2): \").strip()\n",
    "        ACTIONS.get(chon, lambda: print(\"Nhập 0–2 nhé!\"))()\n"
   ]
  },
  {
   "cell_type": "markdown",
   "id": "e2b41d4a",
   "metadata": {},
   "source": [
    "## Lab 4 - Bài 5: bài tập làm thêm"
   ]
  },
  {
   "cell_type": "code",
   "execution_count": null,
   "id": "0e0172f7",
   "metadata": {},
   "outputs": [],
   "source": [
    "# code lab 4  bài làm thêm ở đây \n"
   ]
  }
 ],
 "metadata": {
  "kernelspec": {
   "display_name": ".venv",
   "language": "python",
   "name": "python3"
  },
  "language_info": {
   "codemirror_mode": {
    "name": "ipython",
    "version": 3
   },
   "file_extension": ".py",
   "mimetype": "text/x-python",
   "name": "python",
   "nbconvert_exporter": "python",
   "pygments_lexer": "ipython3",
   "version": "3.13.7"
  }
 },
 "nbformat": 4,
 "nbformat_minor": 5
}
