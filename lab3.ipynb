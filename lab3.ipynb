{
 "cells": [
  {
   "cell_type": "markdown",
   "id": "fdeff819",
   "metadata": {},
   "source": [
    "# Sinh Viên thực hiện Lab 3 ở Đây"
   ]
  },
  {
   "cell_type": "markdown",
   "id": "acc5d7dc",
   "metadata": {},
   "source": [
    "## Lab 3 - Bài 1"
   ]
  },
  {
   "cell_type": "code",
   "execution_count": 84,
   "id": "001e0507",
   "metadata": {},
   "outputs": [
    {
     "name": "stdout",
     "output_type": "stream",
     "text": [
      "đã hủy chương trình\n",
      "Dãy số vừa nhập là: [9, 8, 7, 6, 5, 4, 3, 2, 1, 0]\n",
      "sau khi sắp xếp [0, 1, 2, 3, 4, 5, 6, 7, 8, 9]\n",
      "vị trí của giá trị nhỏ nhất: 0\n",
      "giá trị nhỏ nhất 0\n",
      "nhưng số chia hết cho 3 là: [0, 3, 6, 9]\n",
      "tổng số lần đếm là: 4\n",
      "tổng các số chia hết cho 3: 18\n",
      "Trung bình các số chia hết cho 3 là 4.5\n"
     ]
    }
   ],
   "source": [
    "# Code lab 3 bài 1 ở đây\n",
    "ds=[]\n",
    "while True:\n",
    "    try:\n",
    "        so=input(\"nhập sô nguyên\")\n",
    "        phantu=int(so)\n",
    "        ds.append(phantu)\n",
    "    except ValueError:\n",
    "        if so.lower()==\"x\":\n",
    "            print(\"đã hủy chương trình\")\n",
    "            break\n",
    "        else:\n",
    "            print(\"giá trị sai vui lòng nhập lại\")\n",
    "print(\"Dãy số vừa nhập là:\", ds)\n",
    "ds.sort()\n",
    "print(\"sau khi sắp xếp\",ds)\n",
    "print(\"vị trí của giá trị nhỏ nhất:\", ds.index(ds[0]))\n",
    "print(\"giá trị nhỏ nhất\",ds[0])\n",
    "print(\"nhưng số chia hết cho 3 là:\", [phantu for phantu in ds if phantu % 3 == 0] or [\"không có số nào chia hết cho 3\"])\n",
    "# Tính trung bình các số chia hết cho 3\n",
    "tong=0\n",
    "dem=0\n",
    "for phantu in ds:\n",
    "    if phantu % 3==0:\n",
    "        tong += phantu\n",
    "        dem += 1\n",
    "print(\"tổng số lần đếm là:\",dem)\n",
    "print(\"tổng các số chia hết cho 3:\",tong)\n",
    "if dem>0:\n",
    "    print('Trung bình các số chia hết cho 3 là',tong/dem)"
   ]
  },
  {
   "cell_type": "markdown",
   "id": "c0835310",
   "metadata": {},
   "source": [
    "## Lab 3 - Bài 2"
   ]
  },
  {
   "cell_type": "code",
   "execution_count": null,
   "id": "fa9cb39f",
   "metadata": {},
   "outputs": [
    {
     "name": "stdout",
     "output_type": "stream",
     "text": [
      "\n",
      "Danh sách sinh viên:\n",
      "Họ tên: gfds\n",
      "Điểm: 5.0\n",
      "Xếp loại: Trung bình\n",
      "----------------------------\n",
      "Họ tên: gfds\n",
      "Điểm: 5.0\n",
      "Xếp loại: Trung bình\n",
      "----------------------------\n"
     ]
    }
   ],
   "source": [
    "# Code lab 3  bài 2 ở đây\n",
    "ds = []\n",
    "n = int(input(\"Nhập số sinh viên: \"))\n",
    "for i in range(n):\n",
    "    sinh_vien = {}  \n",
    "    sinh_vien[\"ten\"] = input(\"Nhập tên sinh viên: \")\n",
    "    sinh_vien[\"diem\"] = float(input(\"Nhập điểm trung bình: \"))\n",
    "    if sinh_vien[\"diem\"] >= 9:\n",
    "        sinh_vien[\"xeploai\"] = \"Xuất sắc\"\n",
    "    elif sinh_vien[\"diem\"] >= 8:\n",
    "        sinh_vien[\"xeploai\"] = \"Giỏi\"\n",
    "    elif sinh_vien[\"diem\"] >= 7:\n",
    "        sinh_vien[\"xeploai\"] = \"Khá\"\n",
    "    elif sinh_vien[\"diem\"] >= 5:\n",
    "        sinh_vien[\"xeploai\"] = \"Trung bình\"\n",
    "    else:\n",
    "        sinh_vien[\"xeploai\"] = \"Yếu\"\n",
    "    ds.append(sinh_vien)\n",
    "\n",
    "# Xuất thông tin các sinh viên\n",
    "print(\"\\nDanh sách sinh viên:\")\n",
    "for sv in ds:\n",
    "    print(f\"Họ tên: {sv['ten']}\")\n",
    "    print(f\"Điểm: {sv['diem']}\")\n",
    "    print(f\"Xếp loại: {sv['xeploai']}\")\n",
    "    print(\"----------------------------\")"
   ]
  },
  {
   "cell_type": "markdown",
   "id": "0f2483fe",
   "metadata": {},
   "source": [
    "## Lab 3 - Bài 3"
   ]
  },
  {
   "cell_type": "code",
   "execution_count": 78,
   "id": "7034990b",
   "metadata": {},
   "outputs": [
    {
     "name": "stdout",
     "output_type": "stream",
     "text": [
      "1 không phải là số nguyên tố\n"
     ]
    }
   ],
   "source": [
    "# Code lab 3  bài 3 ở đây\n",
    "# Nhập một số nguyên và kiểm tra số nguyên tố theo hướng dẫn\n",
    "n = int(input(\"Nhập một số nguyên: \"))\n",
    "if n < 2:\n",
    "    print(f\"{n} không phải là số nguyên tố\")\n",
    "else:\n",
    "    ok = True\n",
    "    i = 2\n",
    "    while i < n:\n",
    "        if n % i == 0:\n",
    "            ok = False\n",
    "            break\n",
    "        i += 1\n",
    "    if ok:\n",
    "        print(f\"{n} là số nguyên tố\")\n",
    "    else:\n",
    "        print(f\"{n} không phải là số nguyên tố\")"
   ]
  },
  {
   "cell_type": "markdown",
   "id": "d36ea3d3",
   "metadata": {},
   "source": [
    "## Lab 3 - Bài 4"
   ]
  },
  {
   "cell_type": "code",
   "execution_count": null,
   "id": "4c707ec1",
   "metadata": {},
   "outputs": [
    {
     "name": "stdout",
     "output_type": "stream",
     "text": [
      "1 x 1 = 1\t1 x 2 = 2\t1 x 3 = 3\t1 x 4 = 4\t1 x 5 = 5\t1 x 6 = 6\t1 x 7 = 7\t1 x 8 = 8\t1 x 9 = 9\t\n",
      "2 x 1 = 2\t2 x 2 = 4\t2 x 3 = 6\t2 x 4 = 8\t2 x 5 = 10\t2 x 6 = 12\t2 x 7 = 14\t2 x 8 = 16\t2 x 9 = 18\t\n",
      "3 x 1 = 3\t3 x 2 = 6\t3 x 3 = 9\t3 x 4 = 12\t3 x 5 = 15\t3 x 6 = 18\t3 x 7 = 21\t3 x 8 = 24\t3 x 9 = 27\t\n",
      "4 x 1 = 4\t4 x 2 = 8\t4 x 3 = 12\t4 x 4 = 16\t4 x 5 = 20\t4 x 6 = 24\t4 x 7 = 28\t4 x 8 = 32\t4 x 9 = 36\t\n",
      "5 x 1 = 5\t5 x 2 = 10\t5 x 3 = 15\t5 x 4 = 20\t5 x 5 = 25\t5 x 6 = 30\t5 x 7 = 35\t5 x 8 = 40\t5 x 9 = 45\t\n",
      "6 x 1 = 6\t6 x 2 = 12\t6 x 3 = 18\t6 x 4 = 24\t6 x 5 = 30\t6 x 6 = 36\t6 x 7 = 42\t6 x 8 = 48\t6 x 9 = 54\t\n",
      "7 x 1 = 7\t7 x 2 = 14\t7 x 3 = 21\t7 x 4 = 28\t7 x 5 = 35\t7 x 6 = 42\t7 x 7 = 49\t7 x 8 = 56\t7 x 9 = 63\t\n",
      "8 x 1 = 8\t8 x 2 = 16\t8 x 3 = 24\t8 x 4 = 32\t8 x 5 = 40\t8 x 6 = 48\t8 x 7 = 56\t8 x 8 = 64\t8 x 9 = 72\t\n",
      "9 x 1 = 9\t9 x 2 = 18\t9 x 3 = 27\t9 x 4 = 36\t9 x 5 = 45\t9 x 6 = 54\t9 x 7 = 63\t9 x 8 = 72\t9 x 9 = 81\t\n"
     ]
    }
   ],
   "source": [
    "# code lab 3 bài 4 ở đây\n",
    "for i in range(1, 10):\n",
    "    for j in range(1, 10):\n",
    "        print(f\"{i} x {j} = {i*j}\", end=\"\\t\")\n",
    "    print()"
   ]
  },
  {
   "cell_type": "markdown",
   "id": "4c707ec1",
   "metadata": {},
   "source": [
    "## Lab 3 - Bài 5: bài tập làm thêm"
   ]
  },
  {
   "cell_type": "code",
   "execution_count": null,
   "id": "0e0172f7",
   "metadata": {},
   "outputs": [],
   "source": [
    "# code lab 3  bài làm thêm ở đây"
   ]
  }
 ],
 "metadata": {
  "kernelspec": {
   "display_name": "Python 3",
   "language": "python",
   "name": "python3"
  },
  "language_info": {
   "codemirror_mode": {
    "name": "ipython",
    "version": 3
   },
   "file_extension": ".py",
   "mimetype": "text/x-python",
   "name": "python",
   "nbconvert_exporter": "python",
   "pygments_lexer": "ipython3",
   "version": "3.13.7"
  }
 },
 "nbformat": 4,
 "nbformat_minor": 5
}
