{
 "cells": [
  {
   "cell_type": "markdown",
   "id": "fdeff819",
   "metadata": {},
   "source": [
    "# Sinh Viên thực hiện Lab 5 ở Đây"
   ]
  },
  {
   "cell_type": "markdown",
   "id": "acc5d7dc",
   "metadata": {},
   "source": [
    "## Lab 5 - Bài 1"
   ]
  },
  {
   "cell_type": "code",
   "execution_count": null,
   "id": "001e0507",
   "metadata": {},
   "outputs": [
    {
     "name": "stdout",
     "output_type": "stream",
     "text": [
      "Tên sản phẩm: Iphone 14, giá bán: 30000000, giảm giá: 0.1, thuế nhập khẩu: 3000000.0\n",
      "Tên sản phẩm: Samsung S23, giá bán: 25000000, giảm giá: 0.05, thuế nhập khẩu: 2500000.0\n"
     ]
    }
   ],
   "source": [
    "# Code lab 5 bài 1 ở đây\n",
    "from SanPham import *\n",
    "sp1=SP('Iphone 14',30000000,0.1)\n",
    "sp1.xuat()\n",
    "sp2=SP('Samsung S23',25000000,0.05)\n",
    "sp2.xuat()"
   ]
  },
  {
   "cell_type": "markdown",
   "id": "c0835310",
   "metadata": {},
   "source": [
    "## Lab 5 - Bài 2"
   ]
  },
  {
   "cell_type": "code",
   "execution_count": null,
   "id": "fa9cb39f",
   "metadata": {},
   "outputs": [
    {
     "name": "stdout",
     "output_type": "stream",
     "text": [
      "Tên sản phẩm: ip11, giá bán: 6000.0, giảm giá: 0.1, thuế nhập khẩu: 600.0\n",
      "Tên sản phẩm: ip12 mini , giá bán: 5000.0, giảm giá: 0.5, thuế nhập khẩu: 500.0\n"
     ]
    }
   ],
   "source": [
    "# Code lab 5  bài 2 ở đây\n",
    "from SanPham import *\n",
    "sp1=SP(\"\",\"\",\"\")\n",
    "sp2=SP(\"\",\"\",\"\")\n",
    "sp1.nhap_thong_tin()\n",
    "sp2.nhap_thong_tin()\n",
    "sp1.xuat()\n",
    "sp2.xuat()"
   ]
  },
  {
   "cell_type": "markdown",
   "id": "0f2483fe",
   "metadata": {},
   "source": [
    "## Lab 5 - Bài 3"
   ]
  },
  {
   "cell_type": "code",
   "execution_count": 1,
   "id": "7034990b",
   "metadata": {},
   "outputs": [
    {
     "name": "stdout",
     "output_type": "stream",
     "text": [
      "Tên sản phẩm: ip11, giá bán: 6000.0, giảm giá: 0.3, thuế nhập khẩu: 600.0\n",
      "Tên sản phẩm: máy lọc không khí ps5, giá bán: 4000, giảm giá: 0.5, thuế nhập khẩu: 400.0\n"
     ]
    }
   ],
   "source": [
    "# Code lab 5  bài 3 ở đây\n",
    "from SanPham import *\n",
    "sp1=SP(\"\",\"\",\"\")\n",
    "sp1.nhap_thong_tin()\n",
    "sp1.xuat()\n",
    "sp1.set_ten(\"máy lọc không khí ps5\")\n",
    "sp1.set_gia(4000)\n",
    "sp1.set_giam_gia(0.5)\n",
    "sp1.xuat()"
   ]
  },
  {
   "cell_type": "markdown",
   "id": "d36ea3d3",
   "metadata": {},
   "source": [
    "## Lab 5 - Bài 4"
   ]
  },
  {
   "cell_type": "code",
   "execution_count": 4,
   "id": "4c707ec1",
   "metadata": {},
   "outputs": [
    {
     "name": "stdout",
     "output_type": "stream",
     "text": [
      "=== Nhập thông tin sản phẩm 1 ===\n",
      "Tên sản phẩm: ưerty, giá bán: 3456.0, giảm giá: 0.5, thuế nhập khẩu: 345.6\n",
      "=== Nhập thông tin sản phẩm 2 ===\n",
      "Tên sản phẩm: fghf, giá bán: 9876.0, giảm giá: 0.2, thuế nhập khẩu: 987.6\n"
     ]
    }
   ],
   "source": [
    "# code lab 5 bài 4 ở đây\n",
    "print(\"=== Nhập thông tin sản phẩm 1 ===\")\n",
    "sp1 = SP(input(\"Tên sản phẩm 1: \"), float(input(\"Giá bán 1: \")), float(input(\"Giảm giá 1: \")))\n",
    "sp1.xuat()\n",
    "print(\"=== Nhập thông tin sản phẩm 2 ===\")\n",
    "sp2 = SP(input(\"Tên sản phẩm 2: \"), float(input(\"Giá bán 2: \")), float(input(\"Giảm giá 2: \")))\n",
    "sp2.xuat()"
   ]
  },
  {
   "cell_type": "markdown",
   "id": "e2b41d4a",
   "metadata": {},
   "source": [
    "## Lab 5 - Bài 5: bài tập làm thêm"
   ]
  },
  {
   "cell_type": "code",
   "execution_count": null,
   "id": "0e0172f7",
   "metadata": {},
   "outputs": [
    {
     "name": "stdout",
     "output_type": "stream",
     "text": [
      "\n",
      "========= MÁY TÍNH MINI =========\n",
      "1. Tính toán\n",
      "2. Xem thời gian hiện tại\n",
      "3. Ghi chú\n",
      "4. Đọc ghi chú\n",
      "5. Random số may mắn\n",
      "6. Thoát\n",
      "======== RAMDOM SỐ NGẪU NHIÊN NHE =========\n",
      "Con Số may mắn hôm nay là:2\n",
      "\n",
      "========= MÁY TÍNH MINI =========\n",
      "1. Tính toán\n",
      "2. Xem thời gian hiện tại\n",
      "3. Ghi chú\n",
      "4. Đọc ghi chú\n",
      "5. Random số may mắn\n",
      "6. Thoát\n",
      "Tạm biệt!\n"
     ]
    }
   ],
   "source": [
    "# code lab 5  bài làm thêm ở đây \n",
    "from maytinh import BaiLamThem\n",
    "maytinh=BaiLamThem()\n",
    "maytinh.menu()"
   ]
  },
  {
   "cell_type": "code",
   "execution_count": null,
   "id": "7a9374ac",
   "metadata": {},
   "outputs": [],
   "source": []
  }
 ],
 "metadata": {
  "kernelspec": {
   "display_name": ".venv",
   "language": "python",
   "name": "python3"
  },
  "language_info": {
   "codemirror_mode": {
    "name": "ipython",
    "version": 3
   },
   "file_extension": ".py",
   "mimetype": "text/x-python",
   "name": "python",
   "nbconvert_exporter": "python",
   "pygments_lexer": "ipython3",
   "version": "3.13.7"
  }
 },
 "nbformat": 4,
 "nbformat_minor": 5
}
