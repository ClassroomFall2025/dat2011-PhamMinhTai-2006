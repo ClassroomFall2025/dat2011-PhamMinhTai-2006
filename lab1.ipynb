{
 "cells": [
  {
   "cell_type": "markdown",
   "id": "fdeff819",
   "metadata": {},
   "source": [
    "# Sinh Viên thực hiện Lab 1 ở Đây"
   ]
  },
  {
   "cell_type": "markdown",
   "id": "acc5d7dc",
   "metadata": {},
   "source": [
    "## Lab 1 - Bài 1"
   ]
  },
  {
   "cell_type": "code",
   "execution_count": 10,
   "id": "001e0507",
   "metadata": {},
   "outputs": [
    {
     "name": "stdout",
     "output_type": "stream",
     "text": [
      "Xin Chao\n",
      "Tôi tên là Phạm Minh Tài\n",
      "Tôi đến từ Ninh Thuận\n"
     ]
    }
   ],
   "source": [
    "# Code lab 1 bài 1 ở đây\n",
    "print(\"Xin Chao\")\n",
    "print(\"Tôi tên là Phạm Minh Tài\")\n",
    "print(\"Tôi đến từ Ninh Thuận\")"
   ]
  },
  {
   "cell_type": "markdown",
   "id": "c0835310",
   "metadata": {},
   "source": [
    "## Lab 1 - Bài 2"
   ]
  },
  {
   "cell_type": "code",
   "execution_count": 3,
   "id": "fa9cb39f",
   "metadata": {},
   "outputs": [
    {
     "name": "stdout",
     "output_type": "stream",
     "text": [
      "chu vi của hình chữ nhật là: 22\n",
      "diện tích chữ nhật là: 30\n"
     ]
    }
   ],
   "source": [
    "# Code lab 1  bài 2 ở đây\n",
    "a=int(input('chiều dài của hcn là:'))\n",
    "b=int(input('chiều rộng của hcn là:'))\n",
    "print('chu vi của hình chữ nhật là:',2*(a+b))\n",
    "print('diện tích chữ nhật là:',a*b)"
   ]
  },
  {
   "cell_type": "markdown",
   "id": "0f2483fe",
   "metadata": {},
   "source": [
    "## Lab 1 - Bài 3"
   ]
  },
  {
   "cell_type": "code",
   "execution_count": 4,
   "id": "7034990b",
   "metadata": {},
   "outputs": [
    {
     "name": "stdout",
     "output_type": "stream",
     "text": [
      "\"...\n",
      "Sống Không giận, không hờn không oán trách\n",
      "Sống mĩm cười, với thủ thách chông gai\n",
      "Sống vương lên, theo kịp ánh ban mai\n",
      "Sống chan hòa, với mọi người chung sống.\n",
      "\n",
      "Sống là động, nhưng lòng luôn bất động\n",
      "Sống là thương, nhưng lòng chăng vấn vương\n",
      "Sống là vui, danh lợi mãi coi thường\n",
      "Tâm bất biến, giữa dòng đời vạn biến.\n",
      "...\"\n"
     ]
    }
   ],
   "source": [
    "# Code lab 1  bài 3 ở đây\n",
    "song= \"Sống\"\n",
    "print('\"...')\n",
    "print(f\"{song} Không giận, không hờn không oán trách\")\n",
    "print(f\"{song} mĩm cười, với thủ thách chông gai\")\n",
    "print(f\"{song} vương lên, theo kịp ánh ban mai\")\n",
    "print(f\"{song} chan hòa, với mọi người chung sống.\")\n",
    "print('')\n",
    "print(f\"{song} là động, nhưng lòng luôn bất động\")\n",
    "print(f\"{song} là thương, nhưng lòng chăng vấn vương\")\n",
    "print(f\"{song} là vui, danh lợi mãi coi thường\")\n",
    "print(\"Tâm bất biến, giữa dòng đời vạn biến.\")\n",
    "print('...\"')"
   ]
  },
  {
   "cell_type": "markdown",
   "id": "d36ea3d3",
   "metadata": {},
   "source": [
    "## Lab 1 - Bài 4"
   ]
  },
  {
   "cell_type": "code",
   "execution_count": null,
   "id": "4c707ec1",
   "metadata": {},
   "outputs": [
    {
     "name": "stdout",
     "output_type": "stream",
     "text": [
      "Delta= -68\n",
      "giá trị Delta âm\n"
     ]
    }
   ],
   "source": [
    "# code lab 1 bài 4 ở đây\n",
    "import math\n",
    "a=int(input(\"hệ số a:\"))\n",
    "b=int(input(\"hệ số b:\"))\n",
    "c=int(input(\"hệ số c:\"))\n",
    "Delta=pow(b,2)-4*a*c\n",
    "print(\"Delta=\", Delta)\n",
    "if Delta >= 0:\n",
    "    print(\"Căn Delta=\",math.sprt(Delta))\n",
    "else:\n",
    "    print(\"giá trị Delta âm\")"
   ]
  },
  {
   "cell_type": "markdown",
   "id": "e2b41d4a",
   "metadata": {},
   "source": [
    "## Lab 1 - Bài 5: bài tập làm thêm"
   ]
  },
  {
   "cell_type": "code",
   "execution_count": 2,
   "id": "0e0172f7",
   "metadata": {},
   "outputs": [
    {
     "name": "stdout",
     "output_type": "stream",
     "text": [
      "a = 6\n",
      "b = 7\n",
      "Cộng: 13\n",
      "Trừ: -1\n",
      "Nhân: 42\n",
      "Chia: 0.8571428571428571\n",
      "Lũy thừa: 8\n",
      "Căn bậc hai: 4.0\n",
      "Sin 30°: 0.49999999999999994\n",
      "Cos 30°: 0.8660254037844387\n",
      "Tan 30°: 0.5773502691896257\n",
      "log10: 2.0\n",
      "ln: 4.605170185988092\n",
      "log cơ số 5: 2.8613531161467867\n"
     ]
    }
   ],
   "source": [
    "# code lab 1  bài làm thêm ở đây \n",
    "import math\n",
    "\n",
    "# 1. Các phép toán cơ bản\n",
    "a=6\n",
    "b=7\n",
    "print(\"a =\", a)\n",
    "print(\"b =\", b)\n",
    "cong = a + b\n",
    "tru = a - b\n",
    "nhan = a * b\n",
    "chia = a / b\n",
    "\n",
    "print(\"Cộng:\", cong)\n",
    "print(\"Trừ:\", tru)\n",
    "print(\"Nhân:\", nhan)\n",
    "print(\"Chia:\", chia)\n",
    "\n",
    "# 2. Lũy thừa: x^y\n",
    "x=2\n",
    "y=3\n",
    "luy_thua = x ** y   # hoặc math.pow(x, y)\n",
    "print(\"Lũy thừa:\", luy_thua)\n",
    "\n",
    "# 3. Căn bậc hai\n",
    "num = 16\n",
    "can_bac_hai = math.sqrt(num)\n",
    "print(\"Căn bậc hai:\", can_bac_hai)\n",
    "\n",
    "# 4. Hàm lượng giác (tính theo radian)\n",
    "goc=math.radians(30)\n",
    "sin_val = math.sin(goc)\n",
    "cos_val = math.cos(goc)\n",
    "tan_val = math.tan(goc)\n",
    "print(\"Sin 30°:\", sin_val)\n",
    "print(\"Cos 30°:\", cos_val)\n",
    "print(\"Tan 30°:\", tan_val)\n",
    "\n",
    "# 5. Logarit\n",
    "n = 100\n",
    "log10_val = math.log10(n)        # log cơ số 10\n",
    "ln_val = math.log(n)             # log tự nhiên (cơ số e)\n",
    "log_base_5 = math.log(n, 5)      # log cơ số 5\n",
    "print(\"log10:\", log10_val)\n",
    "print(\"ln:\", ln_val)\n",
    "print(\"log cơ số 5:\", log_base_5)"
   ]
  },
  {
   "cell_type": "code",
   "execution_count": null,
   "id": "7e9ea3ca",
   "metadata": {},
   "outputs": [],
   "source": []
  }
 ],
 "metadata": {
  "kernelspec": {
   "display_name": "Python 3",
   "language": "python",
   "name": "python3"
  },
  "language_info": {
   "codemirror_mode": {
    "name": "ipython",
    "version": 3
   },
   "file_extension": ".py",
   "mimetype": "text/x-python",
   "name": "python",
   "nbconvert_exporter": "python",
   "pygments_lexer": "ipython3",
   "version": "3.13.7"
  }
 },
 "nbformat": 4,
 "nbformat_minor": 5
}
