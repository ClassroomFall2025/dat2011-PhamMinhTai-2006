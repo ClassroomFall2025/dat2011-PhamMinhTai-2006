{
 "cells": [
  {
   "cell_type": "markdown",
   "id": "fdeff819",
   "metadata": {},
   "source": [
    "# Sinh Viên thực hiện Lab 1 ở Đây"
   ]
  },
  {
   "cell_type": "markdown",
   "id": "acc5d7dc",
   "metadata": {},
   "source": [
    "## Lab 1 - Bài 1"
   ]
  },
  {
   "cell_type": "code",
   "execution_count": 10,
   "id": "001e0507",
   "metadata": {},
   "outputs": [
    {
     "name": "stdout",
     "output_type": "stream",
     "text": [
      "Xin Chao\n",
      "Tôi tên là Phạm Minh Tài\n",
      "Tôi đến từ Ninh Thuận\n"
     ]
    }
   ],
   "source": [
    "# Code lab 1 bài 1 ở đây\n",
    "print(\"Xin Chao\")\n",
    "print(\"Tôi tên là Phạm Minh Tài\")\n",
    "print(\"Tôi đến từ Ninh Thuận\")"
   ]
  },
  {
   "cell_type": "markdown",
   "id": "c0835310",
   "metadata": {},
   "source": [
    "## Lab 1 - Bài 2"
   ]
  },
  {
   "cell_type": "code",
   "execution_count": 3,
   "id": "fa9cb39f",
   "metadata": {},
   "outputs": [
    {
     "name": "stdout",
     "output_type": "stream",
     "text": [
      "chu vi của hình chữ nhật là: 22\n",
      "diện tích chữ nhật là: 30\n"
     ]
    }
   ],
   "source": [
    "# Code lab 1  bài 2 ở đây\n",
    "a=int(input('chiều dài của hcn là:'))\n",
    "b=int(input('chiều rộng của hcn là:'))\n",
    "print('chu vi của hình chữ nhật là:',2*(a+b))\n",
    "print('diện tích chữ nhật là:',a*b)"
   ]
  },
  {
   "cell_type": "markdown",
   "id": "0f2483fe",
   "metadata": {},
   "source": [
    "## Lab 1 - Bài 3"
   ]
  },
  {
   "cell_type": "code",
   "execution_count": 4,
   "id": "7034990b",
   "metadata": {},
   "outputs": [
    {
     "name": "stdout",
     "output_type": "stream",
     "text": [
      "\"...\n",
      "Sống Không giận, không hờn không oán trách\n",
      "Sống mĩm cười, với thủ thách chông gai\n",
      "Sống vương lên, theo kịp ánh ban mai\n",
      "Sống chan hòa, với mọi người chung sống.\n",
      "\n",
      "Sống là động, nhưng lòng luôn bất động\n",
      "Sống là thương, nhưng lòng chăng vấn vương\n",
      "Sống là vui, danh lợi mãi coi thường\n",
      "Tâm bất biến, giữa dòng đời vạn biến.\n",
      "...\"\n"
     ]
    }
   ],
   "source": [
    "# Code lab 1  bài 3 ở đây\n",
    "song= \"Sống\"\n",
    "print('\"...')\n",
    "print(f\"{song} Không giận, không hờn không oán trách\")\n",
    "print(f\"{song} mĩm cười, với thủ thách chông gai\")\n",
    "print(f\"{song} vương lên, theo kịp ánh ban mai\")\n",
    "print(f\"{song} chan hòa, với mọi người chung sống.\")\n",
    "print('')\n",
    "print(f\"{song} là động, nhưng lòng luôn bất động\")\n",
    "print(f\"{song} là thương, nhưng lòng chăng vấn vương\")\n",
    "print(f\"{song} là vui, danh lợi mãi coi thường\")\n",
    "print(\"Tâm bất biến, giữa dòng đời vạn biến.\")\n",
    "print('...\"')"
   ]
  },
  {
   "cell_type": "markdown",
   "id": "d36ea3d3",
   "metadata": {},
   "source": [
    "## Lab 1 - Bài 4"
   ]
  },
  {
   "cell_type": "code",
   "execution_count": null,
   "id": "4c707ec1",
   "metadata": {},
   "outputs": [
    {
     "name": "stdout",
     "output_type": "stream",
     "text": [
      "Delta= -68\n",
      "giá trị Delta âm\n"
     ]
    }
   ],
   "source": [
    "# code lab 1 bài 4 ở đây\n",
    "import math\n",
    "a=int(input(\"hệ số a:\"))\n",
    "b=int(input(\"hệ số b:\"))\n",
    "c=int(input(\"hệ số c:\"))\n",
    "Delta=pow(b,2)-4*a*c\n",
    "print(\"Delta=\", Delta)\n",
    "if Delta >= 0:\n",
    "    print(\"Căn Delta=\",math.sprt(Delta))\n",
    "else:\n",
    "    print(\"giá trị Delta âm\")"
   ]
  },
  {
   "cell_type": "markdown",
   "id": "e2b41d4a",
   "metadata": {},
   "source": [
    "## Lab 1 - Bài 5: bài tập làm thêm"
   ]
  },
  {
   "cell_type": "code",
   "execution_count": 9,
   "id": "0e0172f7",
   "metadata": {},
   "outputs": [],
   "source": [
    "# code lab 1  bài làm thêm ở đây "
   ]
  }
 ],
 "metadata": {
  "kernelspec": {
   "display_name": "Python 3",
   "language": "python",
   "name": "python3"
  },
  "language_info": {
   "codemirror_mode": {
    "name": "ipython",
    "version": 3
   },
   "file_extension": ".py",
   "mimetype": "text/x-python",
   "name": "python",
   "nbconvert_exporter": "python",
   "pygments_lexer": "ipython3",
   "version": "3.13.7"
  }
 },
 "nbformat": 4,
 "nbformat_minor": 5
}
