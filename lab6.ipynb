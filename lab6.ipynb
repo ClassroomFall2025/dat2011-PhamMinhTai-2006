{
 "cells": [
  {
   "cell_type": "markdown",
   "id": "fdeff819",
   "metadata": {},
   "source": [
    "# Sinh Viên thực hiện Lab 6 ở Đây"
   ]
  },
  {
   "cell_type": "markdown",
   "id": "acc5d7dc",
   "metadata": {},
   "source": [
    "## Lab 6 - Bài 1"
   ]
  },
  {
   "cell_type": "code",
   "execution_count": 2,
   "id": "001e0507",
   "metadata": {},
   "outputs": [
    {
     "name": "stdout",
     "output_type": "stream",
     "text": [
      "=== KẾT QUẢ ===\n",
      "Diện tích hình chữ nhật\n",
      "Chiều dài: 10.0, Chiều rộng: 5.0\n",
      "Diện tích= 50.0,chu vi: 30.0\n",
      "Hình vuông\n",
      "Cạnh: 6.0\n",
      "Chu vi: 24.0, Diện tích: 36.0\n"
     ]
    }
   ],
   "source": [
    "# Code lab 6 bài 1 ở đây\n",
    "from ChuNhat import *\n",
    "chieudai=float(input(\"chiều dài:\"))\n",
    "chieurong=float(input(\"Chiều Rộng:\"))\n",
    "Canh=float(input(\"Cạnh:\"))\n",
    "hcn = ChuNhat(chieudai, chieurong)\n",
    "hv = HinhVuong(Canh)\n",
    "\n",
    "print(\"=== KẾT QUẢ ===\")\n",
    "hcn.xuat_thong_tin()\n",
    "hv.xuat_thong_tin()\n"
   ]
  },
  {
   "cell_type": "markdown",
   "id": "c0835310",
   "metadata": {},
   "source": [
    "## Lab 6 - Bài 2"
   ]
  },
  {
   "cell_type": "code",
   "execution_count": 5,
   "id": "fa9cb39f",
   "metadata": {},
   "outputs": [
    {
     "name": "stdout",
     "output_type": "stream",
     "text": [
      "sdsdv sfdsf 9.0 xuất sắc\n"
     ]
    }
   ],
   "source": [
    "# Code lab 6  bài 2 ở đây\n",
    "from SinhVien import *\n",
    "sv=SinhVienPoly(\"\",\"\")\n",
    "sv.nhap_tt()\n",
    "sv.diem=float(input(\"Nhập Điểm\"))\n",
    "sv.xuat_tt()\n",
    "\n"
   ]
  },
  {
   "cell_type": "markdown",
   "id": "0f2483fe",
   "metadata": {},
   "source": [
    "## Lab 6 - Bài 3"
   ]
  },
  {
   "cell_type": "code",
   "execution_count": 2,
   "id": "7034990b",
   "metadata": {},
   "outputs": [
    {
     "name": "stdout",
     "output_type": "stream",
     "text": [
      "=== Nhập sinh viên IT ===\n",
      "Họ và tên: sdf, Ngành học: dfs, 5.50 trung bình\n",
      "\n",
      "=== Nhập sinh viên Biz ===\n",
      "Họ và tên: dfb, Ngành học: gmmthg, 7.50 Khá\n"
     ]
    }
   ],
   "source": [
    "# Code lab 6  bài 3 ở đây\n",
    "from SinhVien import*\n",
    "print(\"=== Nhập sinh viên IT ===\")\n",
    "sv_it = SinhVienIT(\"\",\"\",\"\",\"\",\"\")\n",
    "sv_it.nhap_tt()\n",
    "sv_it.xuat_tt()\n",
    "\n",
    "print(\"\\n=== Nhập sinh viên Biz ===\")\n",
    "sv_biz = SinhVienBiz(\"\",\"\",\"\",\"\")\n",
    "sv_biz.nhap_tt()\n",
    "sv_biz.xuat_tt()"
   ]
  },
  {
   "cell_type": "markdown",
   "id": "d36ea3d3",
   "metadata": {},
   "source": [
    "## Lab 6 - Bài 4"
   ]
  },
  {
   "cell_type": "code",
   "execution_count": 1,
   "id": "4c707ec1",
   "metadata": {},
   "outputs": [
    {
     "name": "stdout",
     "output_type": "stream",
     "text": [
      "\n",
      "===============================\n",
      "   CHƯƠNG TRÌNH QUẢN LÝ SINH VIÊN\n",
      "===============================\n",
      "0. Thoát ứng dụng\n",
      "1. Nhập danh sách sinh viên\n",
      "2. Xuất thông tin danh sách sinh viên\n",
      "3. Xuất danh sách sinh viên có học lực giỏi\n",
      "4. Sắp xếp danh sách sinh viên theo điểm\n",
      "===============================\n",
      "\n",
      "--- Nhập thông tin sinh viên mới ---\n",
      "\n",
      "===============================\n",
      "   CHƯƠNG TRÌNH QUẢN LÝ SINH VIÊN\n",
      "===============================\n",
      "0. Thoát ứng dụng\n",
      "1. Nhập danh sách sinh viên\n",
      "2. Xuất thông tin danh sách sinh viên\n",
      "3. Xuất danh sách sinh viên có học lực giỏi\n",
      "4. Sắp xếp danh sách sinh viên theo điểm\n",
      "===============================\n",
      "Danh sách sinh viên\n",
      "sinh viên thứ: 1,Họ và tên: sdgg, Ngành học: sdg, 3.00 Rớt Môn\n",
      "\n",
      "===============================\n",
      "   CHƯƠNG TRÌNH QUẢN LÝ SINH VIÊN\n",
      "===============================\n",
      "0. Thoát ứng dụng\n",
      "1. Nhập danh sách sinh viên\n",
      "2. Xuất thông tin danh sách sinh viên\n",
      "3. Xuất danh sách sinh viên có học lực giỏi\n",
      "4. Sắp xếp danh sách sinh viên theo điểm\n",
      "===============================\n",
      "Tạm biệt!\n"
     ]
    }
   ],
   "source": [
    "# code lab 6 bài 4 ở đây\n",
    "from QLSV import QuanLySinhVien \n",
    "ql1=QuanLySinhVien()\n",
    "\n",
    "while True:\n",
    "    ql1.xuat_menu()\n",
    "    try:\n",
    "        choice = int(input(\"Nhập lựa chọn của bạn: \"))\n",
    "    except ValueError:\n",
    "        print(\"Lựa chọn không hợp lệ, vui lòng nhập số.\")\n",
    "        continue\n",
    "\n",
    "    if choice == 0:\n",
    "        print(\"Tạm biệt!\")\n",
    "        break\n",
    "    elif choice == 1:\n",
    "        ql1.them_sinh_vien()\n",
    "    elif choice == 2:\n",
    "        ql1.xuat_danh_sach()   # 3. Gọi phương thức của đối tượng\n",
    "    elif choice == 3:\n",
    "        ql1.xuat_sv_gioi()  # 4. Gọi phương thức của đối tượng\n",
    "    elif choice == 4:\n",
    "        ql1.SXSV_theo_diem()   # 5. Gọi phương thức của đối tượng\n",
    "    else:\n",
    "        print(\"Chức năng không tồn tại, vui lòng nhập lại!\")"
   ]
  },
  {
   "cell_type": "markdown",
   "id": "e2b41d4a",
   "metadata": {},
   "source": [
    "## Lab 6 - Bài 5: bài tập làm thêm"
   ]
  },
  {
   "cell_type": "code",
   "execution_count": null,
   "id": "0e0172f7",
   "metadata": {},
   "outputs": [],
   "source": [
    "# code lab 6  bài làm thêm ở đây "
   ]
  }
 ],
 "metadata": {
  "kernelspec": {
   "display_name": ".venv",
   "language": "python",
   "name": "python3"
  },
  "language_info": {
   "codemirror_mode": {
    "name": "ipython",
    "version": 3
   },
   "file_extension": ".py",
   "mimetype": "text/x-python",
   "name": "python",
   "nbconvert_exporter": "python",
   "pygments_lexer": "ipython3",
   "version": "3.13.7"
  }
 },
 "nbformat": 4,
 "nbformat_minor": 5
}
