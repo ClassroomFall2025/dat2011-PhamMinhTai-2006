{
 "cells": [
  {
   "cell_type": "markdown",
   "id": "fdeff819",
   "metadata": {},
   "source": [
    "# Sinh Viên thực hiện Lab 7 ở Đây"
   ]
  },
  {
   "cell_type": "markdown",
   "id": "acc5d7dc",
   "metadata": {},
   "source": [
    "## Lab 7 - Bài 1"
   ]
  },
  {
   "cell_type": "code",
   "execution_count": null,
   "id": "001e0507",
   "metadata": {},
   "outputs": [
    {
     "name": "stdout",
     "output_type": "stream",
     "text": [
      "=== Toàn bộ nội dung ===\n",
      "Tự nguyện\n",
      "Trương Quốc Khánh\n",
      "Nếu là chim, tôi sẽ là loài bồ câu trắng\n",
      "Nếu là hoa, tôi sẽ là một đóa hướng dương\n",
      "Nếu là mây, tôi sẽ là một vầng mây ấm\n",
      "Là người, tôi sẽ chết cho quê hương.\n",
      "\n",
      "Là chim, tôi sẽ cất cao đôi cánh mềm\n",
      "Từ nam ra ngoài bắc báo tin nối liền\n",
      "Là hoa, tôi nở tình yêu ban sớm\n",
      "Cùng muôn trái tim ngất ngây hoà bình.\n",
      "\n",
      "Là mây, theo làn gió tung bay khắp trời\n",
      "Nghìn xưa oai hùng đó tôi xin tiếp lời\n",
      "Là người, xin một lần khi nằm xuống\n",
      "Nhìn anh em đứng lên phất cao ngọn cờ.\n",
      "\n",
      "=== Tên bài thơ (9 ký tự đầu tiên) ===\n",
      "Tự nguyện\n",
      "\n",
      "=== Tác giả (dòng thứ hai) ===\n",
      "Trương Quốc Khánh\n"
     ]
    },
    {
     "name": "stderr",
     "output_type": "stream",
     "text": [
      "<>:2: SyntaxWarning: invalid escape sequence '\\F'\n",
      "<>:2: SyntaxWarning: invalid escape sequence '\\F'\n",
      "C:\\Users\\USER\\AppData\\Local\\Temp\\ipykernel_6472\\4019704420.py:2: SyntaxWarning: invalid escape sequence '\\F'\n",
      "  file_path = \"D:\\FPT\\Dat2011\\Lab\\DAT2011 - Lab 7 - Resource.txt\"  # đổi lại nếu file ở nơi khác\n"
     ]
    }
   ],
   "source": [
    "# Code lab 7 bài 1 ở đây\n",
    "file_path = \"D:\\FPT\\Dat2011\\Lab\\DAT2011 - Lab 7 - Resource.txt\"  # đổi lại nếu file ở nơi khác\n",
    "\n",
    "try:\n",
    "    with open(file_path, \"r\", encoding=\"utf-8\") as f:\n",
    "        content = f.read()\n",
    "        print(\"=== Toàn bộ nội dung ===\")\n",
    "        print(content)\n",
    "\n",
    "        f.seek(0)                     # quay về đầu file\n",
    "        title_9 = f.read(9)           # đọc 9 ký tự đầu tiên\n",
    "        print(\"\\n=== Tên bài thơ (9 ký tự đầu tiên) ===\")\n",
    "        print(title_9)\n",
    "\n",
    "        f.seek(0)                    \n",
    "        _ = f.readline()              # dòng 1 (bỏ qua)\n",
    "        author_line = f.readline()    # dòng 2 (tên tác giả)\n",
    "        print(\"\\n=== Tác giả (dòng thứ hai) ===\")\n",
    "        print(author_line.strip() if author_line else \"(Không tìm thấy dòng thứ hai)\")\n",
    "\n",
    "except FileNotFoundError:\n",
    "    print(f\"Không tìm thấy file: {file_path}. Hãy kiểm tra lại tên và đường dẫn.\")"
   ]
  },
  {
   "cell_type": "markdown",
   "id": "c0835310",
   "metadata": {},
   "source": [
    "## Lab 7 - Bài 2"
   ]
  },
  {
   "cell_type": "code",
   "execution_count": 1,
   "id": "fa9cb39f",
   "metadata": {},
   "outputs": [
    {
     "name": "stdout",
     "output_type": "stream",
     "text": [
      "Đã ghi xong nội dung vào file Lab7-Exercise2.txt.\n"
     ]
    }
   ],
   "source": [
    "file = open(\"Lab7-Exercise2.txt\", \"w\", encoding=\"utf-8\")\n",
    "\n",
    "file.write(\"\"\"…\n",
    "Nếu một mai tôi có bay lên trời\n",
    "Thì người ơi tôi đã sống rất thảnh thơi\n",
    "Nếu một mai tôi có đi qua đời\n",
    "Thì người ơi tôi đã sống rất tuyệt vời\n",
    "…\"\"\")\n",
    "\n",
    "file.close()\n",
    "\n",
    "print(\"Đã ghi xong nội dung vào file Lab7-Exercise2.txt.\")\n"
   ]
  },
  {
   "cell_type": "markdown",
   "id": "0f2483fe",
   "metadata": {},
   "source": [
    "## Lab 7 - Bài 3"
   ]
  },
  {
   "cell_type": "code",
   "execution_count": 3,
   "id": "7034990b",
   "metadata": {},
   "outputs": [
    {
     "name": "stdout",
     "output_type": "stream",
     "text": [
      "\n",
      "Nhập thông tin bài thơ thứ 1:\n",
      "\n",
      "Nhập thông tin bài thơ thứ 2:\n",
      "\n",
      "Nhập thông tin bài thơ thứ 3:\n",
      "\n",
      "Nhập thông tin bài thơ thứ 4:\n",
      "\n",
      "Nhập thông tin bài thơ thứ 5:\n",
      "Đã ghi thông tin 5 bài thơ vào file Lab7_Poems.csv.\n"
     ]
    }
   ],
   "source": [
    "# Code lab 7  bài 3 ở đây\n",
    "import csv\n",
    "with open(\"Lab7_Poems.csv\", \"w\", newline=\"\", encoding=\"utf-8\") as file:\n",
    "    writer = csv.writer(file)\n",
    "    writer.writerow([\"TieuDe\", \"TacGia\", \"NamSangTac\"])\n",
    "    for i in range(1, 6):\n",
    "        print(f\"\\nNhập thông tin bài thơ thứ {i}:\")\n",
    "        tieu_de = input(\"Tiêu đề: \")\n",
    "        tac_gia = input(\"Tác giả: \")\n",
    "        nam_sang_tac = input(\"Năm sáng tác: \")\n",
    "        writer.writerow([tieu_de, tac_gia, nam_sang_tac])\n",
    "print(\"Đã ghi thông tin 5 bài thơ vào file Lab7_Poems.csv.\")\n"
   ]
  },
  {
   "cell_type": "markdown",
   "id": "d36ea3d3",
   "metadata": {},
   "source": [
    "## Lab 7 - Bài 4"
   ]
  },
  {
   "cell_type": "code",
   "execution_count": null,
   "id": "4c707ec1",
   "metadata": {},
   "outputs": [
    {
     "name": "stdout",
     "output_type": "stream",
     "text": [
      "<songs>\n",
      "  <song>\n",
      "    <name>Tự nguyện</name>\n",
      "    <author>Trương Quốc Khánh</author>\n",
      "    <section>Nếu là chim, tôi sẽ là loài bồ câu trắng Nếu là hoa, tôi sẽ là một đóa hướng dương Nếu là mây, tôi sẽ là một vầng mây ấm Là người, tôi sẽ chết cho quê hương.</section>\n",
      "    <section>Là chim, tôi sẽ cất cao đôi cánh mềm Từ nam ra ngoài bắc báo tin nối liền Là hoa, tôi nở tình yêu ban sớm Cùng muôn trái tim ngất ngây hoà bình.</section>\n",
      "    <section>Là mây, theo làn gió tung bay khắp trời Nghìn xưa oai hùng đó tôi xin tiếp lời Là người, xin một lần khi nằm xuống Nhìn anh em đứng lên phất cao ngọn cờ.</section>\n",
      "  </song>\n",
      "</songs>\n"
     ]
    },
    {
     "name": "stderr",
     "output_type": "stream",
     "text": [
      "<>:4: SyntaxWarning: invalid escape sequence '\\F'\n",
      "<>:4: SyntaxWarning: invalid escape sequence '\\F'\n",
      "C:\\Users\\USER\\AppData\\Local\\Temp\\ipykernel_14692\\3754277960.py:4: SyntaxWarning: invalid escape sequence '\\F'\n",
      "  with open(\"D:\\FPT\\Dat2011\\Lab\\DAT2011 - Lab 7 - Resource.txt\", \"r\", encoding=\"utf-8\") as f:\n"
     ]
    }
   ],
   "source": [
    "# code lab 7 bài 4 ở đây\n",
    "import xml.etree.ElementTree as ET\n",
    "\n",
    "with open(\"D:\\FPT\\Dat2011\\Lab\\DAT2011 - Lab 7 - Resource.txt\", \"r\", encoding=\"utf-8\") as f:\n",
    "    lines = [line.strip() for line in f.readlines()]\n",
    "\n",
    "ten_bai = lines[0]\n",
    "tac_gia = lines[1]\n",
    "\n",
    "sections = []\n",
    "current = []\n",
    "for line in lines[2:]:\n",
    "    if line == \"\":\n",
    "        if current:\n",
    "            sections.append(\" \".join(current))\n",
    "            current = []\n",
    "    else:\n",
    "        current.append(line)\n",
    "if current:\n",
    "    sections.append(\" \".join(current))\n",
    "\n",
    "root = ET.Element(\"songs\")\n",
    "song = ET.SubElement(root, \"song\")\n",
    "\n",
    "ET.SubElement(song, \"name\").text = ten_bai\n",
    "ET.SubElement(song, \"author\").text = tac_gia\n",
    "\n",
    "for sec in sections:\n",
    "    ET.SubElement(song, \"section\").text = sec\n",
    "\n",
    "tree = ET.ElementTree(root)\n",
    "ET.indent(tree, space=\"  \", level=0)\n",
    "tree.write(\"Lab7_Output.xml\", encoding=\"utf-8\", xml_declaration=True)\n",
    "\n",
    "    "
   ]
  },
  {
   "cell_type": "markdown",
   "id": "e2b41d4a",
   "metadata": {},
   "source": [
    "## Lab 7 - Bài 5: bài tập làm thêm"
   ]
  },
  {
   "cell_type": "code",
   "execution_count": null,
   "id": "0e0172f7",
   "metadata": {},
   "outputs": [],
   "source": [
    "# code lab 7  bài làm thêm ở đây \n",
    "# Code lab 7  bài 2 ở đây\n",
    "filename = input (\"Nhập tên file .csv: \")\n",
    "f1 = open(filename, \"a\")\n",
    "brands = (\"Toyota\", \"Honda\", \"Mazda\", \"Hyundai\", \"KIA\")\n",
    "models = (\"Vios\", \"City\", \"CX 5\", \"Santafe\", \"Morning\")\n",
    "years = (2016, 2017, 2018, 2019, 2020)\n",
    "colors = (\"red\", \"orange\", \"yellow\", \"green\", \"blue\")\n",
    "template = \"{},{},{},{}\\n\"\n",
    "for x in range (5):\n",
    "    record = template. format( brands[x], models[x], years[x], colors[x])\n",
    "    f1.write(record)\n",
    "f1.close()\n",
    "with open(filename, \"r\") as f2:\n",
    "    print(f2.read())"
   ]
  }
 ],
 "metadata": {
  "kernelspec": {
   "display_name": ".venv",
   "language": "python",
   "name": "python3"
  },
  "language_info": {
   "codemirror_mode": {
    "name": "ipython",
    "version": 3
   },
   "file_extension": ".py",
   "mimetype": "text/x-python",
   "name": "python",
   "nbconvert_exporter": "python",
   "pygments_lexer": "ipython3",
   "version": "3.13.7"
  }
 },
 "nbformat": 4,
 "nbformat_minor": 5
}
