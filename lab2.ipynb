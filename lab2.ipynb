{
 "cells": [
  {
   "cell_type": "markdown",
   "id": "fdeff819",
   "metadata": {},
   "source": [
    "# Sinh Viên thực hiện Lab 2 ở Đây"
   ]
  },
  {
   "cell_type": "markdown",
   "id": "acc5d7dc",
   "metadata": {},
   "source": [
    "## Lab 2 - Bài 1"
   ]
  },
  {
   "cell_type": "code",
   "execution_count": 17,
   "id": "001e0507",
   "metadata": {},
   "outputs": [
    {
     "name": "stdout",
     "output_type": "stream",
     "text": [
      "5\n",
      "có từ con người trong câu True\n",
      "Từ trích ra: con người\n",
      "Vị trí xuất hiện: 275\n",
      "Từ trích ra: sỏi\n",
      "Chữ hoa: CON NGƯỜI\n"
     ]
    }
   ],
   "source": [
    "# Code lab 2 bài 1 ở đây\n",
    "poem = \"\"\"Kiếp con người mong manh như là gió\n",
    "Sống trên đời có được mấy lần vui\n",
    "Sao phải đau mà không thể mỉm cười\n",
    "Gắng buông nỗi ngậm ngùi nơi quá khứ\n",
    "\n",
    "Nếu có thể sao ta không làm thử\n",
    "Để tâm hồn khắc hai chữ bình an\n",
    "Cho đôi chân bước thanh thản nhẹ nhàng\n",
    "Dù hướng đời có muôn ngàn đá sỏi\"\"\"\n",
    "# Ktra từ\n",
    "timkiem=poem.find(\"con người\")\n",
    "print(timkiem)\n",
    "print(\"có từ con người trong câu\",'con người'in poem)\n",
    "# trích từ\n",
    "start = poem.find(\"con người\")\n",
    "end = start + len(\"con người\")\n",
    "print(\"Từ trích ra:\", poem[start:end])\n",
    "# st=poem.find(\"ngậm ngùi\")\n",
    "# en=st+len(\"ngậm ngùi\")\n",
    "# print(\"Từ trích ra:\",poem[st:en])\n",
    "tu=input(\"Nhập từ cần tìm: \")\n",
    "vitri=poem.find(tu)\n",
    "if vitri != -1:\n",
    "    print(f\"Vị trí xuất hiện: {vitri}\")\n",
    "    print(f\"Từ trích ra: {poem[vitri:vitri+len(tu)]}\")\n",
    "else:\n",
    "    print(\"Không tìm thấy từ trong bài thơ.\")\n",
    "#chữ hoa\n",
    "print(\"Chữ hoa:\",\"con người\".upper())\n"
   ]
  },
  {
   "cell_type": "markdown",
   "id": "c0835310",
   "metadata": {},
   "source": [
    "## Lab 2 - Bài 2"
   ]
  },
  {
   "cell_type": "code",
   "execution_count": null,
   "id": "fa9cb39f",
   "metadata": {},
   "outputs": [
    {
     "name": "stdout",
     "output_type": "stream",
     "text": [
      "tính và xuất nghiệm x = -3.0\n"
     ]
    }
   ],
   "source": [
    "# Code lab 2  bài 2 ở đây\n",
    "poem = \"\"\"Kiếp con người mong manh như là gió\n",
    "Sống trên đời có được mấy lần vui\n",
    "Sao phải đau mà không thể mỉm cười\n",
    "Gắng buông nỗi ngậm ngùi nơi quá khứ\n",
    "\n",
    "Nếu có thể sao ta không làm thử\n",
    "Để tâm hồn khắc hai chữ bình an\n",
    "Cho đôi chân bước thanh thản nhẹ nhàng\n",
    "Dù hướng đời có muôn ngàn đá sỏi\"\"\"\n",
    "dau='\"...'\n",
    "cuoi='...\"'\n",
    "print(dau+poem.replace(\"bình an\",\"hạnh phúc\")+cuoi)"
   ]
  },
  {
   "cell_type": "markdown",
   "id": "0f2483fe",
   "metadata": {},
   "source": [
    "## Lab 2 - Bài 3"
   ]
  },
  {
   "cell_type": "code",
   "execution_count": null,
   "id": "7034990b",
   "metadata": {},
   "outputs": [
    {
     "name": "stdout",
     "output_type": "stream",
     "text": [
      "phương trình bậc nhất\n"
     ]
    }
   ],
   "source": [
    "# Code lab 2  bài 3 ở đây\n",
    "a=float(input('giá trị của a:'))\n",
    "b=float(input('giá trị của b:'))\n",
    "if a == 0:\n",
    "    if b==0:\n",
    "        print(\"phương trình có vô số nghiệm\")\n",
    "    else:\n",
    "        print(\"phương trình vô nghiệm\")\n",
    "else:\n",
    "    print('tính và xuất nghiệm x =',-b/a)\n",
    "\n",
    "\n"
   ]
  },
  {
   "cell_type": "markdown",
   "id": "d36ea3d3",
   "metadata": {},
   "source": [
    "## Lab 2 - Bài 4"
   ]
  },
  {
   "cell_type": "code",
   "execution_count": 19,
   "id": "4c707ec1",
   "metadata": {},
   "outputs": [
    {
     "name": "stdout",
     "output_type": "stream",
     "text": [
      "Delta: 9.0\n",
      "phương trình có 2 nghiệm phân biệt:\n",
      "x1= -1.0\n",
      "x2= -2.0\n"
     ]
    }
   ],
   "source": [
    "# code lab 2 bài 4 ở đây\n",
    "a=float(input('giá trị của a:'))\n",
    "b=float(input('giá trị của b:'))\n",
    "c=float(input('giá trị của c:'))\n",
    "if a ==0:\n",
    "    print('phương trình bậc nhất')\n",
    "else:\n",
    "    Delta=pow(b,2)-4*a*c\n",
    "    print('Delta:',Delta)\n",
    "    if Delta <0:\n",
    "        print('phương trình vô nghiệm')\n",
    "    elif Delta ==0:\n",
    "        x=-b/(2*a)\n",
    "        print('phương trình có nghiệm kép x1=x2=',x)\n",
    "    else:\n",
    "        x1=(-b+pow(Delta,0.5))/(2*a)\n",
    "        x2=(-b-pow(Delta,0.5))/(2*a)\n",
    "        print('phương trình có 2 nghiệm phân biệt:')\n",
    "        print('x1=',x1)\n",
    "        print('x2=',x2)"
   ]
  },
  {
   "cell_type": "markdown",
   "id": "e2b41d4a",
   "metadata": {},
   "source": [
    "## Lab 2 - Bài 5: bài tập làm thêm"
   ]
  },
  {
   "cell_type": "code",
   "execution_count": null,
   "id": "0e0172f7",
   "metadata": {},
   "outputs": [
    {
     "name": "stdout",
     "output_type": "stream",
     "text": [
      "số lớn nhất là: 9.0\n"
     ]
    }
   ],
   "source": [
    "# code lab 2  bài làm thêm ở đây \n",
    "#tìm số lớn nhất trong ba số=\n",
    "a=float(input('giá trị của a:'))\n",
    "b=float(input('giá trị của b:'))\n",
    "c=float(input('giá trị của c:'))\n",
    "max_num=a\n",
    "if b>max_num:\n",
    "    max_num=b\n",
    "elif c>max_num:\n",
    "    max_num=c\n",
    "print('số lớn nhất là:',max_num)"
   ]
  },
  {
   "cell_type": "code",
   "execution_count": null,
   "id": "2ea24714",
   "metadata": {},
   "outputs": [],
   "source": []
  }
 ],
 "metadata": {
  "kernelspec": {
   "display_name": "Python 3",
   "language": "python",
   "name": "python3"
  },
  "language_info": {
   "codemirror_mode": {
    "name": "ipython",
    "version": 3
   },
   "file_extension": ".py",
   "mimetype": "text/x-python",
   "name": "python",
   "nbconvert_exporter": "python",
   "pygments_lexer": "ipython3",
   "version": "3.13.7"
  }
 },
 "nbformat": 4,
 "nbformat_minor": 5
}
