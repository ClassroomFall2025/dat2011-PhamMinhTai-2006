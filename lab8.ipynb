{
 "cells": [
  {
   "cell_type": "markdown",
   "id": "fdeff819",
   "metadata": {},
   "source": [
    "# Sinh Viên thực hiện Lab 8 ở Đây"
   ]
  },
  {
   "cell_type": "markdown",
   "id": "acc5d7dc",
   "metadata": {},
   "source": [
    "## Lab 8 - Bài 1"
   ]
  },
  {
   "cell_type": "code",
   "execution_count": null,
   "id": "001e0507",
   "metadata": {},
   "outputs": [
    {
     "name": "stdout",
     "output_type": "stream",
     "text": [
      "Họ: PHẠM\n",
      "Đệm \n",
      "Tên: TÀI\n"
     ]
    }
   ],
   "source": [
    "# Code lab 8 bài 1 ở đây\n",
    "# ten=(\"phạm tài\").strip()\n",
    "# parts= ten.split()\n",
    "# print(parts)\n",
    "# ho=parts[0].upper()\n",
    "# ten=parts[-1].upper()\n",
    "# dem=\" \".join(parts[1:-1]) if len(parts) > 2 else \"!\"\n",
    "# print(f\"Họ: {ho}, \\nTên: {ten}, \\aTên đệm: {dem}\")\n",
    "\n",
    "ten=input(\"Họ và tên:\").strip()\n",
    "parts=ten.split()\n",
    "ho=parts[0]\n",
    "ten=parts[-1]\n",
    "if len(parts) > 2:\n",
    "    dem=\" \".join(parts[1:-1])\n",
    "else:\n",
    "    dem=\"\"\n",
    "print(\"Họ:\",ho.upper())\n",
    "print(\"Đệm:\",dem)\n",
    "print(\"Tên:\",ten.upper())"
   ]
  },
  {
   "cell_type": "markdown",
   "id": "c0835310",
   "metadata": {},
   "source": [
    "## Lab 8 - Bài 2"
   ]
  },
  {
   "cell_type": "code",
   "execution_count": null,
   "id": "fa9cb39f",
   "metadata": {},
   "outputs": [
    {
     "name": "stdout",
     "output_type": "stream",
     "text": [
      "Thông tin sinh viên hợp lệ.\n"
     ]
    }
   ],
   "source": [
    "# Code lab 8  bài 2 ở đây\n",
    "import re\n",
    "student = {}\n",
    "student['full_name'] = input(\"Nhập họ và tên sinh viên: \").strip()\n",
    "student['email'] = input(\"Nhập email sinh viên: \").strip()\n",
    "student['phone'] = input(\"Nhập số điện thoại sinh viên: \").strip()\n",
    "student['cmnd'] = input(\"Nhập chứng minh nhân dân sinh viên: \").strip()\n",
    "# Kiểm tra email\n",
    "email_pattern = r'^[a-zA-Z0-9._%+-]+@[a-zA-Z0-9.-]+\\.[a-zA-Z]{2,}$'\n",
    "if not re.match(email_pattern, student['email']):\n",
    "    print(\"Email không đúng định dạng.\")\n",
    "# Kiểm tra số điện thoại\n",
    "phone_pattern = r'^\\d{10,11}$'\n",
    "if not re.match(phone_pattern, student['phone']):\n",
    "    print(\"Số điện thoại không đúng định dạng.\")\n",
    "# Kiểm tra CMND\n",
    "cmnd_pattern = r'^\\d{9}$|^\\d{12}$'\n",
    "if not re.match(cmnd_pattern, student['cmnd']):\n",
    "    print(\"Chứng minh nhân dân không đúng định dạng.\")\n",
    "# Nếu tất cả đúng định dạng\n",
    "if (re.match(email_pattern, student['email']) and\n",
    "    re.match(phone_pattern, student['phone']) and\n",
    "    re.match(cmnd_pattern, student['cmnd'])):\n",
    "    print(\"Thông tin sinh viên hợp lệ.\")"
   ]
  },
  {
   "cell_type": "markdown",
   "id": "0f2483fe",
   "metadata": {},
   "source": [
    "## Lab 8 - Bài 3"
   ]
  },
  {
   "cell_type": "code",
   "execution_count": 31,
   "id": "7034990b",
   "metadata": {},
   "outputs": [],
   "source": [
    "# Code lab 8  bài 3 ở đây\n",
    "import random\n",
    "with open(\"random_numbers.txt\", \"w\") as f:\n",
    "    random_numbers = [str(random.randint(0, 100)) for _ in range(100)]\n",
    "    f.write(\" \".join(random_numbers))"
   ]
  },
  {
   "cell_type": "markdown",
   "id": "d36ea3d3",
   "metadata": {},
   "source": [
    "## Lab 8 - Bài 4"
   ]
  },
  {
   "cell_type": "code",
   "execution_count": 32,
   "id": "4c707ec1",
   "metadata": {},
   "outputs": [
    {
     "name": "stdout",
     "output_type": "stream",
     "text": [
      "===== KẾT QUẢ THỐNG KÊ CƠ BẢN =====\n",
      "Trung bình (Mean): 53.18\n",
      "Độ lệch chuẩn (Sample): 29.27314\n",
      "Độ lệch chuẩn (Population): 29.12641\n",
      "\n",
      "===== PHIÊN BẢN NÂNG CAO - ITERATOR =====\n",
      "Trung bình (Iterator): 53.18\n",
      "Độ lệch chuẩn (Iterator, Population): 29.12641\n"
     ]
    }
   ],
   "source": [
    "# code lab 8 bài 4 ở đây\n",
    "from statistics import mean, stdev, pstdev\n",
    "from itertools import tee\n",
    "\n",
    "# --- Đọc dữ liệu từ file ---\n",
    "with open(\"random_numbers.txt\", \"r\", encoding=\"utf-8\") as f:\n",
    "    data = [int(x) for x in f.read().split()]\n",
    "\n",
    "# --- Tính toán cơ bản ---\n",
    "avg = mean(data)\n",
    "std_sample = stdev(data)\n",
    "std_population = pstdev(data)\n",
    "\n",
    "print(\"===== KẾT QUẢ THỐNG KÊ CƠ BẢN =====\")\n",
    "print(\"Trung bình (Mean):\", round(avg, 5))\n",
    "print(\"Độ lệch chuẩn (Sample):\", round(std_sample, 5))\n",
    "print(\"Độ lệch chuẩn (Population):\", round(std_population, 5))\n",
    "\n",
    "# --- Nâng cao: Iterator ---\n",
    "from itertools import tee\n",
    "\n",
    "with open(\"random_numbers.txt\", \"r\", encoding=\"utf-8\") as f:\n",
    "    iterator = (int(x) for x in f.read().split())\n",
    "\n",
    "it1, it2 = tee(iterator, 2)\n",
    "avg_it = mean(it1)\n",
    "std_it = pstdev(list(it2))\n",
    "\n",
    "print(\"\\n===== PHIÊN BẢN NÂNG CAO - ITERATOR =====\")\n",
    "print(\"Trung bình (Iterator):\", round(avg_it, 5))\n",
    "print(\"Độ lệch chuẩn (Iterator, Population):\", round(std_it, 5))\n"
   ]
  },
  {
   "cell_type": "markdown",
   "id": "e2b41d4a",
   "metadata": {},
   "source": [
    "## Lab 8 - Bài 5: bài tập làm thêm"
   ]
  },
  {
   "cell_type": "code",
   "execution_count": null,
   "id": "0e0172f7",
   "metadata": {},
   "outputs": [],
   "source": [
    "# code lab 8  bài làm thêm ở đây "
   ]
  }
 ],
 "metadata": {
  "kernelspec": {
   "display_name": ".venv",
   "language": "python",
   "name": "python3"
  },
  "language_info": {
   "codemirror_mode": {
    "name": "ipython",
    "version": 3
   },
   "file_extension": ".py",
   "mimetype": "text/x-python",
   "name": "python",
   "nbconvert_exporter": "python",
   "pygments_lexer": "ipython3",
   "version": "3.13.7"
  }
 },
 "nbformat": 4,
 "nbformat_minor": 5
}
